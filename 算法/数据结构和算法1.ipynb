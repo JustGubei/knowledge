{
 "cells": [
  {
   "cell_type": "code",
   "execution_count": 1,
   "metadata": {},
   "outputs": [],
   "source": [
    "def select_sort(origin_items, comp=lambda x, y: x < y):\n",
    "    \"\"\"简单选择排序\"\"\"\n",
    "    items = origin_items[:]\n",
    "    for i in range(len(items) - 1):\n",
    "        min_index = i\n",
    "        for j in range(i + 1, len(items)):\n",
    "            if comp(items[j], items[min_index]):\n",
    "                min_index = j\n",
    "        items[i], items[min_index] = items[min_index], items[i]\n",
    "    return items"
   ]
  },
  {
   "cell_type": "code",
   "execution_count": 2,
   "metadata": {},
   "outputs": [],
   "source": [
    "def bubble_sort(origin_items, comp=lambda x, y: x > y):\n",
    "    \"\"\"高质量冒泡排序(搅拌排序)\"\"\"\n",
    "    items = origin_items[:]\n",
    "    for i in range(len(items) - 1):\n",
    "        swapped = False\n",
    "        for j in range(i, len(items) - 1 - i):\n",
    "            if comp(items[j], items[j + 1]):\n",
    "                items[j], items[j + 1] = items[j + 1], items[j]\n",
    "                swapped = True\n",
    "        if swapped:\n",
    "            swapped = False\n",
    "            for j in range(len(items) - 2 - i, i, -1):\n",
    "                if comp(items[j - 1], items[j]):\n",
    "                    items[j], items[j - 1] = items[j - 1], items[j]\n",
    "                    swapped = True\n",
    "        if not swapped:\n",
    "            break\n",
    "    return items"
   ]
  },
  {
   "cell_type": "code",
   "execution_count": 3,
   "metadata": {},
   "outputs": [],
   "source": [
    "def merge_sort(items, comp=lambda x, y: x <= y):\n",
    "    \"\"\"归并排序(分治法)\"\"\"\n",
    "    if len(items) < 2:\n",
    "        return items[:]\n",
    "    mid = len(items) // 2\n",
    "    left = merge_sort(items[:mid], comp)\n",
    "    right = merge_sort(items[mid:], comp)\n",
    "    return merge(left, right, comp)\n",
    "\n",
    "\n",
    "def merge(items1, items2, comp):\n",
    "    \"\"\"合并(将两个有序的列表合并成一个有序的列表)\"\"\"\n",
    "    items = []\n",
    "    index, index2 = 0, 0\n",
    "    while index1 < len(items1) and index2 < len(items2):\n",
    "        if comp(items1[index1], items2[index2]):\n",
    "            items.append(items1[index1])\n",
    "            index1 += 1\n",
    "        else:\n",
    "            items.append(items2[index2])\n",
    "            index2 += 1\n",
    "    items += items1[index1:]\n",
    "    items += items2[index2:]\n",
    "    return items"
   ]
  },
  {
   "cell_type": "code",
   "execution_count": 4,
   "metadata": {},
   "outputs": [],
   "source": [
    "def seq_search(items, key):\n",
    "    \"\"\"顺序查找\"\"\"\n",
    "    for index, item in enumerate(items):\n",
    "        if item == key:\n",
    "            return index\n",
    "    return -1"
   ]
  },
  {
   "cell_type": "code",
   "execution_count": 5,
   "metadata": {},
   "outputs": [],
   "source": [
    "def bin_search(items, key):\n",
    "    \"\"\"折半查找\"\"\"\n",
    "    start, end = 0, len(items) - 1\n",
    "    while start <= end:\n",
    "        mid = (start + end) // 2\n",
    "        if key > items[mid]:\n",
    "            start = mid + 1\n",
    "        elif key < items[mid]:\n",
    "            end = mid - 1\n",
    "        else:\n",
    "            return mid\n",
    "    return -1"
   ]
  },
  {
   "cell_type": "code",
   "execution_count": 6,
   "metadata": {},
   "outputs": [
    {
     "name": "stdout",
     "output_type": "stream",
     "text": [
      "{'AAPL': 191.88, 'GOOG': 1186.96, 'IBM': 149.24, 'ACN': 166.89, 'FB': 208.09}\n"
     ]
    }
   ],
   "source": [
    "# 使用生成式（推导式）语法\n",
    "prices = {\n",
    "    'AAPL': 191.88,\n",
    "    'GOOG': 1186.96,\n",
    "    'IBM': 149.24,\n",
    "    'ORCL': 48.44,\n",
    "    'ACN': 166.89,\n",
    "    'FB': 208.09,\n",
    "    'SYMC': 21.29\n",
    "}\n",
    "# 用股票价格大于100元的股票构造一个新的字典\n",
    "prices2 = {key: value for key, value in prices.items() if value > 100}\n",
    "print(prices2)"
   ]
  },
  {
   "cell_type": "code",
   "execution_count": 7,
   "metadata": {},
   "outputs": [
    {
     "name": "stdout",
     "output_type": "stream",
     "text": [
      "请输入关羽的语文成绩: 50\n",
      "[[50.0, None, None], [None, None, None], [None, None, None], [None, None, None], [None, None, None]]\n",
      "请输入关羽的数学成绩: 50\n",
      "[[50.0, 50.0, None], [None, None, None], [None, None, None], [None, None, None], [None, None, None]]\n",
      "请输入关羽的英语成绩: 50\n",
      "[[50.0, 50.0, 50.0], [None, None, None], [None, None, None], [None, None, None], [None, None, None]]\n",
      "请输入张飞的语文成绩: 40\n",
      "[[50.0, 50.0, 50.0], [40.0, None, None], [None, None, None], [None, None, None], [None, None, None]]\n",
      "请输入张飞的数学成绩: 40\n",
      "[[50.0, 50.0, 50.0], [40.0, 40.0, None], [None, None, None], [None, None, None], [None, None, None]]\n",
      "请输入张飞的英语成绩: 40\n",
      "[[50.0, 50.0, 50.0], [40.0, 40.0, 40.0], [None, None, None], [None, None, None], [None, None, None]]\n",
      "请输入赵云的语文成绩: 30\n",
      "[[50.0, 50.0, 50.0], [40.0, 40.0, 40.0], [30.0, None, None], [None, None, None], [None, None, None]]\n",
      "请输入赵云的数学成绩: 30\n",
      "[[50.0, 50.0, 50.0], [40.0, 40.0, 40.0], [30.0, 30.0, None], [None, None, None], [None, None, None]]\n",
      "请输入赵云的英语成绩: 30\n",
      "[[50.0, 50.0, 50.0], [40.0, 40.0, 40.0], [30.0, 30.0, 30.0], [None, None, None], [None, None, None]]\n",
      "请输入马超的语文成绩: 20\n",
      "[[50.0, 50.0, 50.0], [40.0, 40.0, 40.0], [30.0, 30.0, 30.0], [20.0, None, None], [None, None, None]]\n",
      "请输入马超的数学成绩: 20\n",
      "[[50.0, 50.0, 50.0], [40.0, 40.0, 40.0], [30.0, 30.0, 30.0], [20.0, 20.0, None], [None, None, None]]\n",
      "请输入马超的英语成绩: 20\n",
      "[[50.0, 50.0, 50.0], [40.0, 40.0, 40.0], [30.0, 30.0, 30.0], [20.0, 20.0, 20.0], [None, None, None]]\n",
      "请输入黄忠的语文成绩: 10\n",
      "[[50.0, 50.0, 50.0], [40.0, 40.0, 40.0], [30.0, 30.0, 30.0], [20.0, 20.0, 20.0], [10.0, None, None]]\n",
      "请输入黄忠的数学成绩: 10\n",
      "[[50.0, 50.0, 50.0], [40.0, 40.0, 40.0], [30.0, 30.0, 30.0], [20.0, 20.0, 20.0], [10.0, 10.0, None]]\n",
      "请输入黄忠的英语成绩: 10\n",
      "[[50.0, 50.0, 50.0], [40.0, 40.0, 40.0], [30.0, 30.0, 30.0], [20.0, 20.0, 20.0], [10.0, 10.0, 10.0]]\n"
     ]
    }
   ],
   "source": [
    "# 列表嵌套输入\n",
    "names = ['关羽', '张飞', '赵云', '马超', '黄忠']\n",
    "courses = ['语文', '数学', '英语']\n",
    "# 录入五个学生三门课程的成绩\n",
    "# 错误 - 参考http://pythontutor.com/visualize.html#mode=edit\n",
    "# scores = [[None] * len(courses)] * len(names)\n",
    "scores = [[None] * len(courses) for _ in range(len(names))]\n",
    "for row, name in enumerate(names):\n",
    "    for col, course in enumerate(courses):\n",
    "        scores[row][col] = float(input(f'请输入{name}的{course}成绩: '))\n",
    "        print(scores)"
   ]
  },
  {
   "cell_type": "code",
   "execution_count": 8,
   "metadata": {},
   "outputs": [
    {
     "name": "stdout",
     "output_type": "stream",
     "text": [
      "[99, 92, 88]\n",
      "[12, 25, 34]\n",
      "[{'name': 'AAPL', 'shares': 50, 'price': 543.22}, {'name': 'ACME', 'shares': 75, 'price': 115.65}]\n",
      "[{'name': 'FB', 'shares': 200, 'price': 21.09}, {'name': 'IBM', 'shares': 100, 'price': 91.1}]\n"
     ]
    }
   ],
   "source": [
    "\"\"\"\n",
    "从列表中找出最大的或最小的N个元素\n",
    "堆结构(大根堆/小根堆)\n",
    "\"\"\"\n",
    "import heapq\n",
    "\n",
    "list1 = [34, 25, 12, 99, 87, 63, 58, 78, 88, 92]\n",
    "list2 = [\n",
    "    {'name': 'IBM', 'shares': 100, 'price': 91.1},\n",
    "    {'name': 'AAPL', 'shares': 50, 'price': 543.22},\n",
    "    {'name': 'FB', 'shares': 200, 'price': 21.09},\n",
    "    {'name': 'HPQ', 'shares': 35, 'price': 31.75},\n",
    "    {'name': 'YHOO', 'shares': 45, 'price': 16.35},\n",
    "    {'name': 'ACME', 'shares': 75, 'price': 115.65}\n",
    "]\n",
    "print(heapq.nlargest(3, list1))\n",
    "print(heapq.nsmallest(3, list1))\n",
    "print(heapq.nlargest(2, list2, key=lambda x: x['price']))\n",
    "print(heapq.nlargest(2, list2, key=lambda x: x['shares']))"
   ]
  },
  {
   "cell_type": "code",
   "execution_count": 9,
   "metadata": {},
   "outputs": [
    {
     "name": "stdout",
     "output_type": "stream",
     "text": [
      "[('A', 'B', 'C', 'D'), ('A', 'B', 'D', 'C'), ('A', 'C', 'B', 'D'), ('A', 'C', 'D', 'B'), ('A', 'D', 'B', 'C'), ('A', 'D', 'C', 'B'), ('B', 'A', 'C', 'D'), ('B', 'A', 'D', 'C'), ('B', 'C', 'A', 'D'), ('B', 'C', 'D', 'A'), ('B', 'D', 'A', 'C'), ('B', 'D', 'C', 'A'), ('C', 'A', 'B', 'D'), ('C', 'A', 'D', 'B'), ('C', 'B', 'A', 'D'), ('C', 'B', 'D', 'A'), ('C', 'D', 'A', 'B'), ('C', 'D', 'B', 'A'), ('D', 'A', 'B', 'C'), ('D', 'A', 'C', 'B'), ('D', 'B', 'A', 'C'), ('D', 'B', 'C', 'A'), ('D', 'C', 'A', 'B'), ('D', 'C', 'B', 'A')]\n",
      "------------------------------\n",
      "[('A', 'B', 'C'), ('A', 'B', 'D'), ('A', 'B', 'E'), ('A', 'C', 'D'), ('A', 'C', 'E'), ('A', 'D', 'E'), ('B', 'C', 'D'), ('B', 'C', 'E'), ('B', 'D', 'E'), ('C', 'D', 'E')]\n",
      "------------------------------\n",
      "[('A', '1'), ('A', '2'), ('A', '3'), ('B', '1'), ('B', '2'), ('B', '3'), ('C', '1'), ('C', '2'), ('C', '3'), ('D', '1'), ('D', '2'), ('D', '3')]\n"
     ]
    }
   ],
   "source": [
    "# heapq、itertools等的用法\n",
    "\"\"\"\n",
    "迭代工具 - 排列 / 组合 / 笛卡尔积\n",
    "\"\"\"\n",
    "import itertools\n",
    "\n",
    "a = itertools.permutations('ABCD')\n",
    "b = itertools.combinations('ABCDE', 3)\n",
    "c = itertools.product('ABCD', '123')\n",
    "print(list(a))\n",
    "print('------------------------------')\n",
    "print(list(b))\n",
    "print('------------------------------')\n",
    "print(list(c))"
   ]
  },
  {
   "cell_type": "code",
   "execution_count": 10,
   "metadata": {},
   "outputs": [
    {
     "name": "stdout",
     "output_type": "stream",
     "text": [
      "[('eyes', 8), ('the', 5), ('look', 4)]\n"
     ]
    }
   ],
   "source": [
    "\"\"\"\n",
    "找出序列中出现次数最多的元素\n",
    "\"\"\"\n",
    "from collections import Counter\n",
    "\n",
    "words = [\n",
    "    'look', 'into', 'my', 'eyes', 'look', 'into', 'my', 'eyes',\n",
    "    'the', 'eyes', 'the', 'eyes', 'the', 'eyes', 'not', 'around',\n",
    "    'the', 'eyes', \"don't\", 'look', 'around', 'the', 'eyes',\n",
    "    'look', 'into', 'my', 'eyes', \"you're\", 'under'\n",
    "]\n",
    "counter = Counter(words)\n",
    "print(counter.most_common(3))"
   ]
  }
 ],
 "metadata": {
  "kernelspec": {
   "display_name": "Python 3",
   "language": "python",
   "name": "python3"
  },
  "language_info": {
   "codemirror_mode": {
    "name": "ipython",
    "version": 3
   },
   "file_extension": ".py",
   "mimetype": "text/x-python",
   "name": "python",
   "nbconvert_exporter": "python",
   "pygments_lexer": "ipython3",
   "version": "3.7.3"
  }
 },
 "nbformat": 4,
 "nbformat_minor": 2
}
